{
 "cells": [
  {
   "cell_type": "code",
   "execution_count": 83,
   "metadata": {},
   "outputs": [],
   "source": [
    "from io import BytesIO,StringIO\n",
    "from zipfile import ZipFile\n",
    "from urllib.request import urlopen\n",
    "from urllib.error import HTTPError\n",
    "import datetime\n",
    "import redis\n",
    "import pandas as pd\n",
    "r = redis.from_url(os.environ.get(\"REDIS_URL\",'redis:'))\n",
    "d = datetime.date.today() \n",
    "csvData = \"\"\n",
    "if d.isoweekday() in range(1, 6):\n",
    "    file_url = \"https://www.bseindia.com/download/BhavCopy/Equity/EQ\"+d.strftime(\"%d%m%y\")+\"_CSV.ZIP\"\n",
    "#     file_url = \"https://www.bseindia.com/download/BhavCopy/Equity/EQ090819_CSV.ZIP\"\n",
    "    try:\n",
    "        resp = urlopen(file_url)\n",
    "    except HTTPError as e:\n",
    "        print(e)\n",
    "    else:\n",
    "        zipfile = ZipFile(BytesIO(resp.read()))\n",
    "        for line in zipfile.open(zipfile.namelist()[0]).readlines():\n",
    "            csvData+=line.decode('utf-8')"
   ]
  },
  {
   "cell_type": "code",
   "execution_count": 84,
   "metadata": {},
   "outputs": [],
   "source": [
    "data = pd.read_csv(StringIO(csvData), sep=\",\")"
   ]
  },
  {
   "cell_type": "code",
   "execution_count": 85,
   "metadata": {},
   "outputs": [
    {
     "data": {
      "text/html": [
       "<div>\n",
       "<style scoped>\n",
       "    .dataframe tbody tr th:only-of-type {\n",
       "        vertical-align: middle;\n",
       "    }\n",
       "\n",
       "    .dataframe tbody tr th {\n",
       "        vertical-align: top;\n",
       "    }\n",
       "\n",
       "    .dataframe thead th {\n",
       "        text-align: right;\n",
       "    }\n",
       "</style>\n",
       "<table border=\"1\" class=\"dataframe\">\n",
       "  <thead>\n",
       "    <tr style=\"text-align: right;\">\n",
       "      <th></th>\n",
       "      <th>SC_CODE</th>\n",
       "      <th>SC_NAME</th>\n",
       "      <th>SC_GROUP</th>\n",
       "      <th>SC_TYPE</th>\n",
       "      <th>OPEN</th>\n",
       "      <th>HIGH</th>\n",
       "      <th>LOW</th>\n",
       "      <th>CLOSE</th>\n",
       "      <th>LAST</th>\n",
       "      <th>PREVCLOSE</th>\n",
       "      <th>NO_TRADES</th>\n",
       "      <th>NO_OF_SHRS</th>\n",
       "      <th>NET_TURNOV</th>\n",
       "      <th>TDCLOINDI</th>\n",
       "    </tr>\n",
       "  </thead>\n",
       "  <tbody>\n",
       "    <tr>\n",
       "      <th>0</th>\n",
       "      <td>500002</td>\n",
       "      <td>ABB LTD.</td>\n",
       "      <td>A</td>\n",
       "      <td>Q</td>\n",
       "      <td>1411.50</td>\n",
       "      <td>1422.60</td>\n",
       "      <td>1388.80</td>\n",
       "      <td>1397.70</td>\n",
       "      <td>1388.80</td>\n",
       "      <td>1396.30</td>\n",
       "      <td>244</td>\n",
       "      <td>1160</td>\n",
       "      <td>1630199.0</td>\n",
       "      <td>NaN</td>\n",
       "    </tr>\n",
       "    <tr>\n",
       "      <th>1</th>\n",
       "      <td>500003</td>\n",
       "      <td>AEGIS LOGIS</td>\n",
       "      <td>A</td>\n",
       "      <td>Q</td>\n",
       "      <td>196.65</td>\n",
       "      <td>202.10</td>\n",
       "      <td>195.00</td>\n",
       "      <td>199.00</td>\n",
       "      <td>199.60</td>\n",
       "      <td>192.65</td>\n",
       "      <td>473</td>\n",
       "      <td>9841</td>\n",
       "      <td>1945870.0</td>\n",
       "      <td>NaN</td>\n",
       "    </tr>\n",
       "    <tr>\n",
       "      <th>2</th>\n",
       "      <td>500008</td>\n",
       "      <td>AMAR RAJA BA</td>\n",
       "      <td>A</td>\n",
       "      <td>Q</td>\n",
       "      <td>649.05</td>\n",
       "      <td>655.35</td>\n",
       "      <td>621.60</td>\n",
       "      <td>627.60</td>\n",
       "      <td>627.60</td>\n",
       "      <td>645.05</td>\n",
       "      <td>1287</td>\n",
       "      <td>56341</td>\n",
       "      <td>36044463.0</td>\n",
       "      <td>NaN</td>\n",
       "    </tr>\n",
       "    <tr>\n",
       "      <th>3</th>\n",
       "      <td>500009</td>\n",
       "      <td>A.SARABHAI</td>\n",
       "      <td>X</td>\n",
       "      <td>Q</td>\n",
       "      <td>11.55</td>\n",
       "      <td>11.93</td>\n",
       "      <td>11.51</td>\n",
       "      <td>11.83</td>\n",
       "      <td>11.90</td>\n",
       "      <td>11.53</td>\n",
       "      <td>46</td>\n",
       "      <td>12871</td>\n",
       "      <td>150785.0</td>\n",
       "      <td>NaN</td>\n",
       "    </tr>\n",
       "    <tr>\n",
       "      <th>4</th>\n",
       "      <td>500010</td>\n",
       "      <td>HDFC</td>\n",
       "      <td>A</td>\n",
       "      <td>Q</td>\n",
       "      <td>2199.00</td>\n",
       "      <td>2239.85</td>\n",
       "      <td>2180.00</td>\n",
       "      <td>2211.90</td>\n",
       "      <td>2211.90</td>\n",
       "      <td>2181.20</td>\n",
       "      <td>4853</td>\n",
       "      <td>122789</td>\n",
       "      <td>273140591.0</td>\n",
       "      <td>NaN</td>\n",
       "    </tr>\n",
       "    <tr>\n",
       "      <th>5</th>\n",
       "      <td>500012</td>\n",
       "      <td>ANDHRA PETRO</td>\n",
       "      <td>X</td>\n",
       "      <td>Q</td>\n",
       "      <td>42.85</td>\n",
       "      <td>43.50</td>\n",
       "      <td>41.80</td>\n",
       "      <td>43.10</td>\n",
       "      <td>43.10</td>\n",
       "      <td>42.20</td>\n",
       "      <td>152</td>\n",
       "      <td>22316</td>\n",
       "      <td>956006.0</td>\n",
       "      <td>NaN</td>\n",
       "    </tr>\n",
       "    <tr>\n",
       "      <th>6</th>\n",
       "      <td>500013</td>\n",
       "      <td>ANSAL INFRAS</td>\n",
       "      <td>B</td>\n",
       "      <td>Q</td>\n",
       "      <td>3.99</td>\n",
       "      <td>4.00</td>\n",
       "      <td>3.90</td>\n",
       "      <td>3.93</td>\n",
       "      <td>3.95</td>\n",
       "      <td>3.81</td>\n",
       "      <td>59</td>\n",
       "      <td>29467</td>\n",
       "      <td>116764.0</td>\n",
       "      <td>NaN</td>\n",
       "    </tr>\n",
       "    <tr>\n",
       "      <th>7</th>\n",
       "      <td>500014</td>\n",
       "      <td>APPLE FINANC</td>\n",
       "      <td>XT</td>\n",
       "      <td>Q</td>\n",
       "      <td>1.39</td>\n",
       "      <td>1.45</td>\n",
       "      <td>1.39</td>\n",
       "      <td>1.45</td>\n",
       "      <td>1.45</td>\n",
       "      <td>1.39</td>\n",
       "      <td>32</td>\n",
       "      <td>8271</td>\n",
       "      <td>11985.0</td>\n",
       "      <td>NaN</td>\n",
       "    </tr>\n",
       "    <tr>\n",
       "      <th>8</th>\n",
       "      <td>500020</td>\n",
       "      <td>BOM DYEING</td>\n",
       "      <td>A</td>\n",
       "      <td>Q</td>\n",
       "      <td>73.00</td>\n",
       "      <td>74.60</td>\n",
       "      <td>71.70</td>\n",
       "      <td>71.95</td>\n",
       "      <td>71.95</td>\n",
       "      <td>71.25</td>\n",
       "      <td>2613</td>\n",
       "      <td>210642</td>\n",
       "      <td>15360204.0</td>\n",
       "      <td>NaN</td>\n",
       "    </tr>\n",
       "    <tr>\n",
       "      <th>9</th>\n",
       "      <td>500023</td>\n",
       "      <td>ASIANHOTNR</td>\n",
       "      <td>B</td>\n",
       "      <td>Q</td>\n",
       "      <td>93.00</td>\n",
       "      <td>93.00</td>\n",
       "      <td>92.55</td>\n",
       "      <td>92.55</td>\n",
       "      <td>92.55</td>\n",
       "      <td>90.60</td>\n",
       "      <td>38</td>\n",
       "      <td>136</td>\n",
       "      <td>12617.0</td>\n",
       "      <td>NaN</td>\n",
       "    </tr>\n",
       "  </tbody>\n",
       "</table>\n",
       "</div>"
      ],
      "text/plain": [
       "   SC_CODE       SC_NAME SC_GROUP SC_TYPE     OPEN     HIGH      LOW    CLOSE  \\\n",
       "0   500002  ABB LTD.           A        Q  1411.50  1422.60  1388.80  1397.70   \n",
       "1   500003  AEGIS LOGIS        A        Q   196.65   202.10   195.00   199.00   \n",
       "2   500008  AMAR RAJA BA       A        Q   649.05   655.35   621.60   627.60   \n",
       "3   500009  A.SARABHAI         X        Q    11.55    11.93    11.51    11.83   \n",
       "4   500010  HDFC               A        Q  2199.00  2239.85  2180.00  2211.90   \n",
       "5   500012  ANDHRA PETRO       X        Q    42.85    43.50    41.80    43.10   \n",
       "6   500013  ANSAL INFRAS       B        Q     3.99     4.00     3.90     3.93   \n",
       "7   500014  APPLE FINANC       XT       Q     1.39     1.45     1.39     1.45   \n",
       "8   500020  BOM DYEING         A        Q    73.00    74.60    71.70    71.95   \n",
       "9   500023  ASIANHOTNR         B        Q    93.00    93.00    92.55    92.55   \n",
       "\n",
       "      LAST  PREVCLOSE  NO_TRADES  NO_OF_SHRS   NET_TURNOV  TDCLOINDI  \n",
       "0  1388.80    1396.30        244        1160    1630199.0        NaN  \n",
       "1   199.60     192.65        473        9841    1945870.0        NaN  \n",
       "2   627.60     645.05       1287       56341   36044463.0        NaN  \n",
       "3    11.90      11.53         46       12871     150785.0        NaN  \n",
       "4  2211.90    2181.20       4853      122789  273140591.0        NaN  \n",
       "5    43.10      42.20        152       22316     956006.0        NaN  \n",
       "6     3.95       3.81         59       29467     116764.0        NaN  \n",
       "7     1.45       1.39         32        8271      11985.0        NaN  \n",
       "8    71.95      71.25       2613      210642   15360204.0        NaN  \n",
       "9    92.55      90.60         38         136      12617.0        NaN  "
      ]
     },
     "execution_count": 85,
     "metadata": {},
     "output_type": "execute_result"
    }
   ],
   "source": [
    "data.head(10)"
   ]
  },
  {
   "cell_type": "code",
   "execution_count": 86,
   "metadata": {},
   "outputs": [],
   "source": [
    "data.sort_values(\"OPEN\", axis=0, ascending=False, inplace=True, kind='quicksort', na_position='last')"
   ]
  },
  {
   "cell_type": "code",
   "execution_count": 87,
   "metadata": {},
   "outputs": [],
   "source": [
    "dataDict = data[['SC_NAME', 'OPEN', 'HIGH', 'LOW', 'CLOSE']].to_dict('records')"
   ]
  },
  {
   "cell_type": "code",
   "execution_count": 88,
   "metadata": {},
   "outputs": [
    {
     "data": {
      "text/plain": [
       "{'SC_NAME': '85FFSPL27   ',\n",
       " 'OPEN': 9500000.0,\n",
       " 'HIGH': 9500000.0,\n",
       " 'LOW': 9500000.0,\n",
       " 'CLOSE': 9500000.0}"
      ]
     },
     "execution_count": 88,
     "metadata": {},
     "output_type": "execute_result"
    }
   ],
   "source": [
    "dataDict[0]"
   ]
  },
  {
   "cell_type": "code",
   "execution_count": 89,
   "metadata": {},
   "outputs": [],
   "source": [
    "SC_CODEList = data[['SC_CODE']].values.tolist()\n",
    "SC_NameList = data[['SC_NAME']].values.tolist()"
   ]
  },
  {
   "cell_type": "code",
   "execution_count": 90,
   "metadata": {},
   "outputs": [],
   "source": [
    "top10Keys = SC_CODEList[:10]"
   ]
  },
  {
   "cell_type": "code",
   "execution_count": 91,
   "metadata": {},
   "outputs": [],
   "source": [
    "top10Keys.reverse()"
   ]
  },
  {
   "cell_type": "code",
   "execution_count": 92,
   "metadata": {},
   "outputs": [
    {
     "data": {
      "text/plain": [
       "20"
      ]
     },
     "execution_count": 92,
     "metadata": {},
     "output_type": "execute_result"
    }
   ],
   "source": [
    "r.lpush('top10Keys', *[item[0] for item in top10Keys])"
   ]
  },
  {
   "cell_type": "code",
   "execution_count": 93,
   "metadata": {},
   "outputs": [],
   "source": [
    "dictionary = {index[0]: value for index,value in zip(SC_CODEList,dataDict)}"
   ]
  },
  {
   "cell_type": "code",
   "execution_count": 94,
   "metadata": {},
   "outputs": [],
   "source": [
    "# dictionary"
   ]
  },
  {
   "cell_type": "code",
   "execution_count": 95,
   "metadata": {},
   "outputs": [],
   "source": [
    "with r.pipeline() as pipe:\n",
    "    for SC_CODE, item in dictionary.items():\n",
    "        pipe.hmset(SC_CODE, item)\n",
    "        pipe.execute()"
   ]
  },
  {
   "cell_type": "code",
   "execution_count": 96,
   "metadata": {},
   "outputs": [
    {
     "data": {
      "text/plain": [
       "True"
      ]
     },
     "execution_count": 96,
     "metadata": {},
     "output_type": "execute_result"
    }
   ],
   "source": [
    "r.bgsave()"
   ]
  },
  {
   "cell_type": "code",
   "execution_count": 97,
   "metadata": {},
   "outputs": [],
   "source": [
    "for SC_CODE, item in dictionary.items():\n",
    "    r.hmset(SC_CODE, item)"
   ]
  },
  {
   "cell_type": "code",
   "execution_count": 98,
   "metadata": {},
   "outputs": [],
   "source": [
    "# r.keys()"
   ]
  },
  {
   "cell_type": "code",
   "execution_count": 99,
   "metadata": {},
   "outputs": [],
   "source": [
    "def makeDictionary(names,codes):\n",
    "    returnDict = {}\n",
    "    for name,code in zip(names,codes):\n",
    "        returnDict[name[0]] = code[0]\n",
    "    return returnDict"
   ]
  },
  {
   "cell_type": "code",
   "execution_count": 100,
   "metadata": {},
   "outputs": [
    {
     "data": {
      "text/plain": [
       "True"
      ]
     },
     "execution_count": 100,
     "metadata": {},
     "output_type": "execute_result"
    }
   ],
   "source": [
    "r.mset(makeDictionary(SC_NameList,SC_CODEList))"
   ]
  },
  {
   "cell_type": "code",
   "execution_count": 78,
   "metadata": {},
   "outputs": [
    {
     "data": {
      "text/plain": [
       "True"
      ]
     },
     "execution_count": 78,
     "metadata": {},
     "output_type": "execute_result"
    }
   ],
   "source": [
    "r.mset({\"date\":d.strftime(\"%d-%m-%Y\")})"
   ]
  },
  {
   "cell_type": "code",
   "execution_count": 50,
   "metadata": {},
   "outputs": [
    {
     "data": {
      "text/plain": [
       "'10-08-2019'"
      ]
     },
     "execution_count": 50,
     "metadata": {},
     "output_type": "execute_result"
    }
   ],
   "source": [
    "r.mget(\"date\")[0].decode()"
   ]
  },
  {
   "cell_type": "code",
   "execution_count": null,
   "metadata": {},
   "outputs": [],
   "source": []
  },
  {
   "cell_type": "code",
   "execution_count": null,
   "metadata": {},
   "outputs": [],
   "source": []
  },
  {
   "cell_type": "code",
   "execution_count": null,
   "metadata": {},
   "outputs": [],
   "source": [
    "break"
   ]
  },
  {
   "cell_type": "markdown",
   "metadata": {},
   "source": [
    "# ---------------------------------------------------------------------------------------------------------------"
   ]
  },
  {
   "cell_type": "markdown",
   "metadata": {},
   "source": [
    "# Case1"
   ]
  },
  {
   "cell_type": "code",
   "execution_count": null,
   "metadata": {},
   "outputs": [],
   "source": [
    "TTFParse = r.lrange('top10Keys', 0, 10)"
   ]
  },
  {
   "cell_type": "code",
   "execution_count": null,
   "metadata": {},
   "outputs": [],
   "source": [
    "TTFParse.reverse()"
   ]
  },
  {
   "cell_type": "code",
   "execution_count": null,
   "metadata": {},
   "outputs": [],
   "source": [
    "answerList = []\n",
    "for key in TTFParse:\n",
    "    answerList.append(r.hmget(key.decode(), \"SC_NAME\", \"OPEN\", \"HIGH\", \"LOW\", \"CLOSE\"))"
   ]
  },
  {
   "cell_type": "code",
   "execution_count": null,
   "metadata": {},
   "outputs": [],
   "source": [
    "for row in answerList:\n",
    "    print(row[0].decode()+\" \"+row[1].decode()+\" \"+row[2].decode()+\" \"+row[3].decode()+\" \"+row[4].decode())"
   ]
  },
  {
   "cell_type": "code",
   "execution_count": null,
   "metadata": {},
   "outputs": [],
   "source": []
  },
  {
   "cell_type": "code",
   "execution_count": null,
   "metadata": {},
   "outputs": [],
   "source": [
    "break"
   ]
  },
  {
   "cell_type": "markdown",
   "metadata": {},
   "source": [
    "# Case2"
   ]
  },
  {
   "cell_type": "code",
   "execution_count": null,
   "metadata": {},
   "outputs": [],
   "source": [
    "scname = \"HDFC\""
   ]
  },
  {
   "cell_type": "code",
   "execution_count": null,
   "metadata": {},
   "outputs": [],
   "source": [
    "matchingNames = r.scan_iter(\"*\"+scname.upper()+\"*\")"
   ]
  },
  {
   "cell_type": "code",
   "execution_count": null,
   "metadata": {},
   "outputs": [],
   "source": [
    "answerList = []\n",
    "for name in matchingNames:\n",
    "    answerList.append(r.hmget(r.mget(name.decode())[0].decode(), \"SC_NAME\", \"OPEN\", \"HIGH\", \"LOW\", \"CLOSE\"))"
   ]
  },
  {
   "cell_type": "code",
   "execution_count": null,
   "metadata": {},
   "outputs": [],
   "source": [
    "for row in answerList:\n",
    "    print(row[0].decode()+\" \"+row[1].decode()+\" \"+row[2].decode()+\" \"+row[3].decode()+\" \"+row[4].decode())"
   ]
  },
  {
   "cell_type": "code",
   "execution_count": null,
   "metadata": {},
   "outputs": [],
   "source": []
  },
  {
   "cell_type": "code",
   "execution_count": null,
   "metadata": {},
   "outputs": [],
   "source": [
    "break"
   ]
  },
  {
   "cell_type": "markdown",
   "metadata": {},
   "source": [
    "# Flush Redis"
   ]
  },
  {
   "cell_type": "code",
   "execution_count": 38,
   "metadata": {},
   "outputs": [
    {
     "data": {
      "text/plain": [
       "True"
      ]
     },
     "execution_count": 38,
     "metadata": {},
     "output_type": "execute_result"
    }
   ],
   "source": [
    "r.flushall()"
   ]
  },
  {
   "cell_type": "code",
   "execution_count": null,
   "metadata": {},
   "outputs": [],
   "source": []
  }
 ],
 "metadata": {
  "kernelspec": {
   "display_name": "Python 3",
   "language": "python",
   "name": "python3"
  },
  "language_info": {
   "codemirror_mode": {
    "name": "ipython",
    "version": 3
   },
   "file_extension": ".py",
   "mimetype": "text/x-python",
   "name": "python",
   "nbconvert_exporter": "python",
   "pygments_lexer": "ipython3",
   "version": "3.7.0"
  }
 },
 "nbformat": 4,
 "nbformat_minor": 2
}
