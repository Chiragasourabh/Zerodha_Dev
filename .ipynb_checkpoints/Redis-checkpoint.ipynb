{
 "cells": [
  {
   "cell_type": "code",
   "execution_count": 1,
   "metadata": {},
   "outputs": [],
   "source": [
    "from io import BytesIO,StringIO\n",
    "from zipfile import ZipFile\n",
    "from urllib.request import urlopen\n",
    "import datetime\n",
    "import redis\n",
    "import pandas as pd\n",
    "r = redis.StrictRedis(host=\"127.0.0.1\",port=6379,db=0)\n",
    "\n",
    "d = datetime.date.today() \n",
    "csvData = \"\"\n",
    "if d.isoweekday() in range(1, 6):\n",
    "#     file_url = \"https://www.bseindia.com/download/BhavCopy/Equity/EQ\"+d.strftime(\"%d%m%y\")+\"_CSV.ZIP\"\n",
    "    file_url = \"https://www.bseindia.com/download/BhavCopy/Equity/EQ090819_CSV.ZIP\"\n",
    "    resp = urlopen(file_url)\n",
    "    zipfile = ZipFile(BytesIO(resp.read()))\n",
    "    for line in zipfile.open(zipfile.namelist()[0]).readlines():\n",
    "        csvData+=line.decode('utf-8')"
   ]
  },
  {
   "cell_type": "code",
   "execution_count": 2,
   "metadata": {},
   "outputs": [
    {
     "ename": "EmptyDataError",
     "evalue": "No columns to parse from file",
     "output_type": "error",
     "traceback": [
      "\u001b[1;31m---------------------------------------------------------------------------\u001b[0m",
      "\u001b[1;31mEmptyDataError\u001b[0m                            Traceback (most recent call last)",
      "\u001b[1;32m<ipython-input-2-955d30fae4a6>\u001b[0m in \u001b[0;36m<module>\u001b[1;34m()\u001b[0m\n\u001b[1;32m----> 1\u001b[1;33m \u001b[0mdata\u001b[0m \u001b[1;33m=\u001b[0m \u001b[0mpd\u001b[0m\u001b[1;33m.\u001b[0m\u001b[0mread_csv\u001b[0m\u001b[1;33m(\u001b[0m\u001b[0mStringIO\u001b[0m\u001b[1;33m(\u001b[0m\u001b[0mcsvData\u001b[0m\u001b[1;33m)\u001b[0m\u001b[1;33m,\u001b[0m \u001b[0msep\u001b[0m\u001b[1;33m=\u001b[0m\u001b[1;34m\",\"\u001b[0m\u001b[1;33m)\u001b[0m\u001b[1;33m\u001b[0m\u001b[0m\n\u001b[0m",
      "\u001b[1;32mc:\\users\\chira\\appdata\\local\\programs\\python\\python37\\lib\\site-packages\\pandas\\io\\parsers.py\u001b[0m in \u001b[0;36mparser_f\u001b[1;34m(filepath_or_buffer, sep, delimiter, header, names, index_col, usecols, squeeze, prefix, mangle_dupe_cols, dtype, engine, converters, true_values, false_values, skipinitialspace, skiprows, skipfooter, nrows, na_values, keep_default_na, na_filter, verbose, skip_blank_lines, parse_dates, infer_datetime_format, keep_date_col, date_parser, dayfirst, iterator, chunksize, compression, thousands, decimal, lineterminator, quotechar, quoting, doublequote, escapechar, comment, encoding, dialect, tupleize_cols, error_bad_lines, warn_bad_lines, delim_whitespace, low_memory, memory_map, float_precision)\u001b[0m\n\u001b[0;32m    700\u001b[0m                     skip_blank_lines=skip_blank_lines)\n\u001b[0;32m    701\u001b[0m \u001b[1;33m\u001b[0m\u001b[0m\n\u001b[1;32m--> 702\u001b[1;33m         \u001b[1;32mreturn\u001b[0m \u001b[0m_read\u001b[0m\u001b[1;33m(\u001b[0m\u001b[0mfilepath_or_buffer\u001b[0m\u001b[1;33m,\u001b[0m \u001b[0mkwds\u001b[0m\u001b[1;33m)\u001b[0m\u001b[1;33m\u001b[0m\u001b[0m\n\u001b[0m\u001b[0;32m    703\u001b[0m \u001b[1;33m\u001b[0m\u001b[0m\n\u001b[0;32m    704\u001b[0m     \u001b[0mparser_f\u001b[0m\u001b[1;33m.\u001b[0m\u001b[0m__name__\u001b[0m \u001b[1;33m=\u001b[0m \u001b[0mname\u001b[0m\u001b[1;33m\u001b[0m\u001b[0m\n",
      "\u001b[1;32mc:\\users\\chira\\appdata\\local\\programs\\python\\python37\\lib\\site-packages\\pandas\\io\\parsers.py\u001b[0m in \u001b[0;36m_read\u001b[1;34m(filepath_or_buffer, kwds)\u001b[0m\n\u001b[0;32m    427\u001b[0m \u001b[1;33m\u001b[0m\u001b[0m\n\u001b[0;32m    428\u001b[0m     \u001b[1;31m# Create the parser.\u001b[0m\u001b[1;33m\u001b[0m\u001b[1;33m\u001b[0m\u001b[0m\n\u001b[1;32m--> 429\u001b[1;33m     \u001b[0mparser\u001b[0m \u001b[1;33m=\u001b[0m \u001b[0mTextFileReader\u001b[0m\u001b[1;33m(\u001b[0m\u001b[0mfilepath_or_buffer\u001b[0m\u001b[1;33m,\u001b[0m \u001b[1;33m**\u001b[0m\u001b[0mkwds\u001b[0m\u001b[1;33m)\u001b[0m\u001b[1;33m\u001b[0m\u001b[0m\n\u001b[0m\u001b[0;32m    430\u001b[0m \u001b[1;33m\u001b[0m\u001b[0m\n\u001b[0;32m    431\u001b[0m     \u001b[1;32mif\u001b[0m \u001b[0mchunksize\u001b[0m \u001b[1;32mor\u001b[0m \u001b[0miterator\u001b[0m\u001b[1;33m:\u001b[0m\u001b[1;33m\u001b[0m\u001b[0m\n",
      "\u001b[1;32mc:\\users\\chira\\appdata\\local\\programs\\python\\python37\\lib\\site-packages\\pandas\\io\\parsers.py\u001b[0m in \u001b[0;36m__init__\u001b[1;34m(self, f, engine, **kwds)\u001b[0m\n\u001b[0;32m    893\u001b[0m             \u001b[0mself\u001b[0m\u001b[1;33m.\u001b[0m\u001b[0moptions\u001b[0m\u001b[1;33m[\u001b[0m\u001b[1;34m'has_index_names'\u001b[0m\u001b[1;33m]\u001b[0m \u001b[1;33m=\u001b[0m \u001b[0mkwds\u001b[0m\u001b[1;33m[\u001b[0m\u001b[1;34m'has_index_names'\u001b[0m\u001b[1;33m]\u001b[0m\u001b[1;33m\u001b[0m\u001b[0m\n\u001b[0;32m    894\u001b[0m \u001b[1;33m\u001b[0m\u001b[0m\n\u001b[1;32m--> 895\u001b[1;33m         \u001b[0mself\u001b[0m\u001b[1;33m.\u001b[0m\u001b[0m_make_engine\u001b[0m\u001b[1;33m(\u001b[0m\u001b[0mself\u001b[0m\u001b[1;33m.\u001b[0m\u001b[0mengine\u001b[0m\u001b[1;33m)\u001b[0m\u001b[1;33m\u001b[0m\u001b[0m\n\u001b[0m\u001b[0;32m    896\u001b[0m \u001b[1;33m\u001b[0m\u001b[0m\n\u001b[0;32m    897\u001b[0m     \u001b[1;32mdef\u001b[0m \u001b[0mclose\u001b[0m\u001b[1;33m(\u001b[0m\u001b[0mself\u001b[0m\u001b[1;33m)\u001b[0m\u001b[1;33m:\u001b[0m\u001b[1;33m\u001b[0m\u001b[0m\n",
      "\u001b[1;32mc:\\users\\chira\\appdata\\local\\programs\\python\\python37\\lib\\site-packages\\pandas\\io\\parsers.py\u001b[0m in \u001b[0;36m_make_engine\u001b[1;34m(self, engine)\u001b[0m\n\u001b[0;32m   1120\u001b[0m     \u001b[1;32mdef\u001b[0m \u001b[0m_make_engine\u001b[0m\u001b[1;33m(\u001b[0m\u001b[0mself\u001b[0m\u001b[1;33m,\u001b[0m \u001b[0mengine\u001b[0m\u001b[1;33m=\u001b[0m\u001b[1;34m'c'\u001b[0m\u001b[1;33m)\u001b[0m\u001b[1;33m:\u001b[0m\u001b[1;33m\u001b[0m\u001b[0m\n\u001b[0;32m   1121\u001b[0m         \u001b[1;32mif\u001b[0m \u001b[0mengine\u001b[0m \u001b[1;33m==\u001b[0m \u001b[1;34m'c'\u001b[0m\u001b[1;33m:\u001b[0m\u001b[1;33m\u001b[0m\u001b[0m\n\u001b[1;32m-> 1122\u001b[1;33m             \u001b[0mself\u001b[0m\u001b[1;33m.\u001b[0m\u001b[0m_engine\u001b[0m \u001b[1;33m=\u001b[0m \u001b[0mCParserWrapper\u001b[0m\u001b[1;33m(\u001b[0m\u001b[0mself\u001b[0m\u001b[1;33m.\u001b[0m\u001b[0mf\u001b[0m\u001b[1;33m,\u001b[0m \u001b[1;33m**\u001b[0m\u001b[0mself\u001b[0m\u001b[1;33m.\u001b[0m\u001b[0moptions\u001b[0m\u001b[1;33m)\u001b[0m\u001b[1;33m\u001b[0m\u001b[0m\n\u001b[0m\u001b[0;32m   1123\u001b[0m         \u001b[1;32melse\u001b[0m\u001b[1;33m:\u001b[0m\u001b[1;33m\u001b[0m\u001b[0m\n\u001b[0;32m   1124\u001b[0m             \u001b[1;32mif\u001b[0m \u001b[0mengine\u001b[0m \u001b[1;33m==\u001b[0m \u001b[1;34m'python'\u001b[0m\u001b[1;33m:\u001b[0m\u001b[1;33m\u001b[0m\u001b[0m\n",
      "\u001b[1;32mc:\\users\\chira\\appdata\\local\\programs\\python\\python37\\lib\\site-packages\\pandas\\io\\parsers.py\u001b[0m in \u001b[0;36m__init__\u001b[1;34m(self, src, **kwds)\u001b[0m\n\u001b[0;32m   1851\u001b[0m         \u001b[0mkwds\u001b[0m\u001b[1;33m[\u001b[0m\u001b[1;34m'usecols'\u001b[0m\u001b[1;33m]\u001b[0m \u001b[1;33m=\u001b[0m \u001b[0mself\u001b[0m\u001b[1;33m.\u001b[0m\u001b[0musecols\u001b[0m\u001b[1;33m\u001b[0m\u001b[0m\n\u001b[0;32m   1852\u001b[0m \u001b[1;33m\u001b[0m\u001b[0m\n\u001b[1;32m-> 1853\u001b[1;33m         \u001b[0mself\u001b[0m\u001b[1;33m.\u001b[0m\u001b[0m_reader\u001b[0m \u001b[1;33m=\u001b[0m \u001b[0mparsers\u001b[0m\u001b[1;33m.\u001b[0m\u001b[0mTextReader\u001b[0m\u001b[1;33m(\u001b[0m\u001b[0msrc\u001b[0m\u001b[1;33m,\u001b[0m \u001b[1;33m**\u001b[0m\u001b[0mkwds\u001b[0m\u001b[1;33m)\u001b[0m\u001b[1;33m\u001b[0m\u001b[0m\n\u001b[0m\u001b[0;32m   1854\u001b[0m         \u001b[0mself\u001b[0m\u001b[1;33m.\u001b[0m\u001b[0munnamed_cols\u001b[0m \u001b[1;33m=\u001b[0m \u001b[0mself\u001b[0m\u001b[1;33m.\u001b[0m\u001b[0m_reader\u001b[0m\u001b[1;33m.\u001b[0m\u001b[0munnamed_cols\u001b[0m\u001b[1;33m\u001b[0m\u001b[0m\n\u001b[0;32m   1855\u001b[0m \u001b[1;33m\u001b[0m\u001b[0m\n",
      "\u001b[1;32mpandas\\_libs\\parsers.pyx\u001b[0m in \u001b[0;36mpandas._libs.parsers.TextReader.__cinit__\u001b[1;34m()\u001b[0m\n",
      "\u001b[1;31mEmptyDataError\u001b[0m: No columns to parse from file"
     ]
    }
   ],
   "source": [
    "data = pd.read_csv(StringIO(csvData), sep=\",\")"
   ]
  },
  {
   "cell_type": "code",
   "execution_count": 67,
   "metadata": {},
   "outputs": [
    {
     "data": {
      "text/html": [
       "<div>\n",
       "<style scoped>\n",
       "    .dataframe tbody tr th:only-of-type {\n",
       "        vertical-align: middle;\n",
       "    }\n",
       "\n",
       "    .dataframe tbody tr th {\n",
       "        vertical-align: top;\n",
       "    }\n",
       "\n",
       "    .dataframe thead th {\n",
       "        text-align: right;\n",
       "    }\n",
       "</style>\n",
       "<table border=\"1\" class=\"dataframe\">\n",
       "  <thead>\n",
       "    <tr style=\"text-align: right;\">\n",
       "      <th></th>\n",
       "      <th>SC_CODE</th>\n",
       "      <th>SC_NAME</th>\n",
       "      <th>SC_GROUP</th>\n",
       "      <th>SC_TYPE</th>\n",
       "      <th>OPEN</th>\n",
       "      <th>HIGH</th>\n",
       "      <th>LOW</th>\n",
       "      <th>CLOSE</th>\n",
       "      <th>LAST</th>\n",
       "      <th>PREVCLOSE</th>\n",
       "      <th>NO_TRADES</th>\n",
       "      <th>NO_OF_SHRS</th>\n",
       "      <th>NET_TURNOV</th>\n",
       "      <th>TDCLOINDI</th>\n",
       "    </tr>\n",
       "  </thead>\n",
       "  <tbody>\n",
       "    <tr>\n",
       "      <th>2725</th>\n",
       "      <td>958448</td>\n",
       "      <td>1170IOB28</td>\n",
       "      <td>F</td>\n",
       "      <td>D</td>\n",
       "      <td>1136611.00</td>\n",
       "      <td>1137752.05</td>\n",
       "      <td>1136600.00</td>\n",
       "      <td>1137752.05</td>\n",
       "      <td>1137752.05</td>\n",
       "      <td>1136610.96</td>\n",
       "      <td>6</td>\n",
       "      <td>7</td>\n",
       "      <td>7958526.0</td>\n",
       "      <td>NaN</td>\n",
       "    </tr>\n",
       "    <tr>\n",
       "      <th>2722</th>\n",
       "      <td>956083</td>\n",
       "      <td>921PNBPER</td>\n",
       "      <td>F</td>\n",
       "      <td>D</td>\n",
       "      <td>1012600.00</td>\n",
       "      <td>1012600.00</td>\n",
       "      <td>1012266.39</td>\n",
       "      <td>1012433.20</td>\n",
       "      <td>1012600.00</td>\n",
       "      <td>1012000.00</td>\n",
       "      <td>3</td>\n",
       "      <td>3</td>\n",
       "      <td>3037466.0</td>\n",
       "      <td>NaN</td>\n",
       "    </tr>\n",
       "    <tr>\n",
       "      <th>2724</th>\n",
       "      <td>957808</td>\n",
       "      <td>1015UPPCL26</td>\n",
       "      <td>F</td>\n",
       "      <td>D</td>\n",
       "      <td>973333.00</td>\n",
       "      <td>973333.00</td>\n",
       "      <td>970000.00</td>\n",
       "      <td>970000.00</td>\n",
       "      <td>970000.00</td>\n",
       "      <td>990000.00</td>\n",
       "      <td>7</td>\n",
       "      <td>7</td>\n",
       "      <td>6803320.0</td>\n",
       "      <td>NaN</td>\n",
       "    </tr>\n",
       "    <tr>\n",
       "      <th>2721</th>\n",
       "      <td>955457</td>\n",
       "      <td>95YBLPER</td>\n",
       "      <td>F</td>\n",
       "      <td>D</td>\n",
       "      <td>940000.00</td>\n",
       "      <td>940000.00</td>\n",
       "      <td>940000.00</td>\n",
       "      <td>940000.00</td>\n",
       "      <td>940000.00</td>\n",
       "      <td>950000.00</td>\n",
       "      <td>1</td>\n",
       "      <td>1</td>\n",
       "      <td>940000.0</td>\n",
       "      <td>NaN</td>\n",
       "    </tr>\n",
       "    <tr>\n",
       "      <th>2720</th>\n",
       "      <td>954073</td>\n",
       "      <td>50IIFL19F</td>\n",
       "      <td>F</td>\n",
       "      <td>D</td>\n",
       "      <td>146726.00</td>\n",
       "      <td>146726.00</td>\n",
       "      <td>146726.00</td>\n",
       "      <td>146726.00</td>\n",
       "      <td>146726.00</td>\n",
       "      <td>137158.00</td>\n",
       "      <td>1</td>\n",
       "      <td>20</td>\n",
       "      <td>2934520.0</td>\n",
       "      <td>NaN</td>\n",
       "    </tr>\n",
       "    <tr>\n",
       "      <th>2723</th>\n",
       "      <td>956527</td>\n",
       "      <td>EELE9E706A</td>\n",
       "      <td>F</td>\n",
       "      <td>D</td>\n",
       "      <td>120095.00</td>\n",
       "      <td>120095.00</td>\n",
       "      <td>120095.00</td>\n",
       "      <td>120095.00</td>\n",
       "      <td>120095.00</td>\n",
       "      <td>120068.00</td>\n",
       "      <td>6</td>\n",
       "      <td>200</td>\n",
       "      <td>24019000.0</td>\n",
       "      <td>NaN</td>\n",
       "    </tr>\n",
       "    <tr>\n",
       "      <th>2727</th>\n",
       "      <td>958670</td>\n",
       "      <td>1175SIBL29</td>\n",
       "      <td>F</td>\n",
       "      <td>D</td>\n",
       "      <td>109545.89</td>\n",
       "      <td>109545.89</td>\n",
       "      <td>109545.89</td>\n",
       "      <td>109545.89</td>\n",
       "      <td>109545.89</td>\n",
       "      <td>109381.00</td>\n",
       "      <td>2</td>\n",
       "      <td>17</td>\n",
       "      <td>1862280.0</td>\n",
       "      <td>NaN</td>\n",
       "    </tr>\n",
       "    <tr>\n",
       "      <th>2728</th>\n",
       "      <td>958790</td>\n",
       "      <td>EEL24MAY19</td>\n",
       "      <td>F</td>\n",
       "      <td>D</td>\n",
       "      <td>104800.00</td>\n",
       "      <td>104800.00</td>\n",
       "      <td>104800.00</td>\n",
       "      <td>104800.00</td>\n",
       "      <td>104800.00</td>\n",
       "      <td>104800.00</td>\n",
       "      <td>2</td>\n",
       "      <td>35</td>\n",
       "      <td>3668000.0</td>\n",
       "      <td>NaN</td>\n",
       "    </tr>\n",
       "    <tr>\n",
       "      <th>2729</th>\n",
       "      <td>958899</td>\n",
       "      <td>EARC25JUL19</td>\n",
       "      <td>F</td>\n",
       "      <td>D</td>\n",
       "      <td>101151.25</td>\n",
       "      <td>101151.25</td>\n",
       "      <td>101151.25</td>\n",
       "      <td>101151.25</td>\n",
       "      <td>101151.25</td>\n",
       "      <td>101125.18</td>\n",
       "      <td>1</td>\n",
       "      <td>10</td>\n",
       "      <td>1011512.0</td>\n",
       "      <td>NaN</td>\n",
       "    </tr>\n",
       "    <tr>\n",
       "      <th>2726</th>\n",
       "      <td>958644</td>\n",
       "      <td>RFL15MAR23</td>\n",
       "      <td>F</td>\n",
       "      <td>D</td>\n",
       "      <td>100000.00</td>\n",
       "      <td>100000.00</td>\n",
       "      <td>100000.00</td>\n",
       "      <td>100000.00</td>\n",
       "      <td>100000.00</td>\n",
       "      <td>100000.00</td>\n",
       "      <td>1</td>\n",
       "      <td>10</td>\n",
       "      <td>1000000.0</td>\n",
       "      <td>NaN</td>\n",
       "    </tr>\n",
       "  </tbody>\n",
       "</table>\n",
       "</div>"
      ],
      "text/plain": [
       "      SC_CODE       SC_NAME SC_GROUP SC_TYPE        OPEN        HIGH  \\\n",
       "2725   958448  1170IOB28          F        D  1136611.00  1137752.05   \n",
       "2722   956083  921PNBPER          F        D  1012600.00  1012600.00   \n",
       "2724   957808  1015UPPCL26        F        D   973333.00   973333.00   \n",
       "2721   955457  95YBLPER           F        D   940000.00   940000.00   \n",
       "2720   954073  50IIFL19F          F        D   146726.00   146726.00   \n",
       "2723   956527  EELE9E706A         F        D   120095.00   120095.00   \n",
       "2727   958670  1175SIBL29         F        D   109545.89   109545.89   \n",
       "2728   958790  EEL24MAY19         F        D   104800.00   104800.00   \n",
       "2729   958899  EARC25JUL19        F        D   101151.25   101151.25   \n",
       "2726   958644  RFL15MAR23         F        D   100000.00   100000.00   \n",
       "\n",
       "             LOW       CLOSE        LAST   PREVCLOSE  NO_TRADES  NO_OF_SHRS  \\\n",
       "2725  1136600.00  1137752.05  1137752.05  1136610.96          6           7   \n",
       "2722  1012266.39  1012433.20  1012600.00  1012000.00          3           3   \n",
       "2724   970000.00   970000.00   970000.00   990000.00          7           7   \n",
       "2721   940000.00   940000.00   940000.00   950000.00          1           1   \n",
       "2720   146726.00   146726.00   146726.00   137158.00          1          20   \n",
       "2723   120095.00   120095.00   120095.00   120068.00          6         200   \n",
       "2727   109545.89   109545.89   109545.89   109381.00          2          17   \n",
       "2728   104800.00   104800.00   104800.00   104800.00          2          35   \n",
       "2729   101151.25   101151.25   101151.25   101125.18          1          10   \n",
       "2726   100000.00   100000.00   100000.00   100000.00          1          10   \n",
       "\n",
       "      NET_TURNOV  TDCLOINDI  \n",
       "2725   7958526.0        NaN  \n",
       "2722   3037466.0        NaN  \n",
       "2724   6803320.0        NaN  \n",
       "2721    940000.0        NaN  \n",
       "2720   2934520.0        NaN  \n",
       "2723  24019000.0        NaN  \n",
       "2727   1862280.0        NaN  \n",
       "2728   3668000.0        NaN  \n",
       "2729   1011512.0        NaN  \n",
       "2726   1000000.0        NaN  "
      ]
     },
     "execution_count": 67,
     "metadata": {},
     "output_type": "execute_result"
    }
   ],
   "source": [
    "data.head(10)"
   ]
  },
  {
   "cell_type": "code",
   "execution_count": null,
   "metadata": {},
   "outputs": [],
   "source": []
  },
  {
   "cell_type": "code",
   "execution_count": 42,
   "metadata": {},
   "outputs": [],
   "source": [
    "data.sort_values(\"OPEN\", axis=0, ascending=False, inplace=True, kind='quicksort', na_position='last')"
   ]
  },
  {
   "cell_type": "code",
   "execution_count": 44,
   "metadata": {},
   "outputs": [],
   "source": [
    "dataDict = data[['SC_NAME', 'OPEN', 'HIGH', 'LOW', 'CLOSE']].to_dict('records')"
   ]
  },
  {
   "cell_type": "code",
   "execution_count": 45,
   "metadata": {},
   "outputs": [
    {
     "data": {
      "text/plain": [
       "{'SC_NAME': '1170IOB28   ',\n",
       " 'OPEN': 1136611.0,\n",
       " 'HIGH': 1137752.05,\n",
       " 'LOW': 1136600.0,\n",
       " 'CLOSE': 1137752.05}"
      ]
     },
     "execution_count": 45,
     "metadata": {},
     "output_type": "execute_result"
    }
   ],
   "source": [
    "dataDict[0]"
   ]
  },
  {
   "cell_type": "code",
   "execution_count": 46,
   "metadata": {},
   "outputs": [],
   "source": [
    "SC_CODEList = data[['SC_CODE']].values.tolist()"
   ]
  },
  {
   "cell_type": "code",
   "execution_count": 53,
   "metadata": {},
   "outputs": [],
   "source": [
    "top10Keys = SC_CODEList[:10]"
   ]
  },
  {
   "cell_type": "code",
   "execution_count": 57,
   "metadata": {},
   "outputs": [
    {
     "data": {
      "text/plain": [
       "10"
      ]
     },
     "execution_count": 57,
     "metadata": {},
     "output_type": "execute_result"
    }
   ],
   "source": [
    "r.lpush('top10Keys', *[item[0] for item in top10Keys])"
   ]
  },
  {
   "cell_type": "code",
   "execution_count": 48,
   "metadata": {},
   "outputs": [],
   "source": [
    "dictionary = {index[0]: value for index,value in zip(SC_CODEList,dataDict)}"
   ]
  },
  {
   "cell_type": "code",
   "execution_count": 22,
   "metadata": {},
   "outputs": [],
   "source": [
    "# dictionary"
   ]
  },
  {
   "cell_type": "code",
   "execution_count": null,
   "metadata": {},
   "outputs": [],
   "source": []
  },
  {
   "cell_type": "code",
   "execution_count": 49,
   "metadata": {},
   "outputs": [],
   "source": [
    "with r.pipeline() as pipe:\n",
    "    for SC_CODE, item in dictionary.items():\n",
    "        pipe.hmset(SC_CODE, item)\n",
    "        pipe.execute()"
   ]
  },
  {
   "cell_type": "code",
   "execution_count": 50,
   "metadata": {},
   "outputs": [
    {
     "data": {
      "text/plain": [
       "True"
      ]
     },
     "execution_count": 50,
     "metadata": {},
     "output_type": "execute_result"
    }
   ],
   "source": [
    "r.bgsave()"
   ]
  },
  {
   "cell_type": "code",
   "execution_count": 59,
   "metadata": {},
   "outputs": [],
   "source": [
    "# r.keys()"
   ]
  },
  {
   "cell_type": "code",
   "execution_count": null,
   "metadata": {},
   "outputs": [],
   "source": []
  },
  {
   "cell_type": "markdown",
   "metadata": {},
   "source": [
    "# ---------------------------------------------------------------------------------------------------------------"
   ]
  },
  {
   "cell_type": "code",
   "execution_count": null,
   "metadata": {},
   "outputs": [],
   "source": []
  },
  {
   "cell_type": "code",
   "execution_count": null,
   "metadata": {},
   "outputs": [],
   "source": []
  },
  {
   "cell_type": "code",
   "execution_count": 75,
   "metadata": {},
   "outputs": [],
   "source": [
    "TTFParse = r.lrange('top10Keys', 0, 10)"
   ]
  },
  {
   "cell_type": "code",
   "execution_count": 76,
   "metadata": {},
   "outputs": [],
   "source": [
    "TTFParse.reverse()"
   ]
  },
  {
   "cell_type": "code",
   "execution_count": 77,
   "metadata": {},
   "outputs": [],
   "source": [
    "answerList = []\n",
    "for key in TTFParse:\n",
    "    answerList.append(r.hmget(key.decode(), \"SC_NAME\", \"OPEN\", \"HIGH\", \"LOW\", \"CLOSE\"))"
   ]
  },
  {
   "cell_type": "code",
   "execution_count": 81,
   "metadata": {},
   "outputs": [
    {
     "name": "stdout",
     "output_type": "stream",
     "text": [
      "1170IOB28    1136611.0 1137752.05 1136600.0 1137752.05\n",
      "921PNBPER    1012600.0 1012600.0 1012266.39 1012433.2\n",
      "1015UPPCL26  973333.0 973333.0 970000.0 970000.0\n",
      "95YBLPER     940000.0 940000.0 940000.0 940000.0\n",
      "50IIFL19F    146726.0 146726.0 146726.0 146726.0\n",
      "EELE9E706A   120095.0 120095.0 120095.0 120095.0\n",
      "1175SIBL29   109545.89 109545.89 109545.89 109545.89\n",
      "EEL24MAY19   104800.0 104800.0 104800.0 104800.0\n",
      "EARC25JUL19  101151.25 101151.25 101151.25 101151.25\n",
      "RFL15MAR23   100000.0 100000.0 100000.0 100000.0\n"
     ]
    }
   ],
   "source": [
    "for row in answerList:\n",
    "    print(row[0].decode()+\" \"+row[1].decode()+\" \"+row[2].decode()+\" \"+row[3].decode()+\" \"+row[4].decode())"
   ]
  },
  {
   "cell_type": "code",
   "execution_count": null,
   "metadata": {},
   "outputs": [],
   "source": []
  }
 ],
 "metadata": {
  "kernelspec": {
   "display_name": "Python 3",
   "language": "python",
   "name": "python3"
  },
  "language_info": {
   "codemirror_mode": {
    "name": "ipython",
    "version": 3
   },
   "file_extension": ".py",
   "mimetype": "text/x-python",
   "name": "python",
   "nbconvert_exporter": "python",
   "pygments_lexer": "ipython3",
   "version": "3.7.0"
  }
 },
 "nbformat": 4,
 "nbformat_minor": 2
}
