{
 "cells": [
  {
   "cell_type": "code",
   "execution_count": 1,
   "metadata": {},
   "outputs": [],
   "source": [
    "import datetime"
   ]
  },
  {
   "cell_type": "code",
   "execution_count": 6,
   "metadata": {},
   "outputs": [],
   "source": [
    "x = datetime.date.today().strftime(\"%d/%m/%Y\")"
   ]
  },
  {
   "cell_type": "code",
   "execution_count": 7,
   "metadata": {},
   "outputs": [
    {
     "data": {
      "text/plain": [
       "str"
      ]
     },
     "execution_count": 7,
     "metadata": {},
     "output_type": "execute_result"
    }
   ],
   "source": [
    "type(x)"
   ]
  },
  {
   "cell_type": "code",
   "execution_count": 8,
   "metadata": {},
   "outputs": [],
   "source": [
    "import pandas as pd"
   ]
  },
  {
   "cell_type": "code",
   "execution_count": 9,
   "metadata": {},
   "outputs": [],
   "source": [
    "import random"
   ]
  },
  {
   "cell_type": "code",
   "execution_count": 16,
   "metadata": {},
   "outputs": [
    {
     "data": {
      "text/plain": [
       "1564"
      ]
     },
     "execution_count": 16,
     "metadata": {},
     "output_type": "execute_result"
    }
   ],
   "source": [
    "random.randint(1000,2000)"
   ]
  },
  {
   "cell_type": "code",
   "execution_count": 47,
   "metadata": {},
   "outputs": [],
   "source": [
    "leng = 50"
   ]
  },
  {
   "cell_type": "code",
   "execution_count": 48,
   "metadata": {},
   "outputs": [],
   "source": [
    "op = [random.randint(1000,2000) for i in range(leng)]"
   ]
  },
  {
   "cell_type": "code",
   "execution_count": 49,
   "metadata": {},
   "outputs": [],
   "source": [
    "cl = [random.randint(1000,2000) for i in range(leng)]"
   ]
  },
  {
   "cell_type": "code",
   "execution_count": 50,
   "metadata": {},
   "outputs": [],
   "source": [
    "hi = [random.randint(1000,2000) for i in range(leng)]"
   ]
  },
  {
   "cell_type": "code",
   "execution_count": 51,
   "metadata": {},
   "outputs": [],
   "source": [
    "lo = [random.randint(1000,2000) for i in range(leng)]"
   ]
  },
  {
   "cell_type": "code",
   "execution_count": 52,
   "metadata": {},
   "outputs": [],
   "source": [
    "# (Fields: code, name, open, high, low, close)"
   ]
  },
  {
   "cell_type": "code",
   "execution_count": 53,
   "metadata": {},
   "outputs": [],
   "source": [
    "import string\n",
    "def randomString(stringLength=10):\n",
    "    letters = string.ascii_lowercase\n",
    "    return ''.join(random.choice(letters) for i in range(stringLength))"
   ]
  },
  {
   "cell_type": "code",
   "execution_count": null,
   "metadata": {},
   "outputs": [],
   "source": []
  },
  {
   "cell_type": "code",
   "execution_count": 54,
   "metadata": {},
   "outputs": [
    {
     "data": {
      "text/plain": [
       "'ejyarhigtm'"
      ]
     },
     "execution_count": 54,
     "metadata": {},
     "output_type": "execute_result"
    }
   ],
   "source": [
    "randomString()"
   ]
  },
  {
   "cell_type": "code",
   "execution_count": 55,
   "metadata": {},
   "outputs": [],
   "source": [
    "name = [randomString() for i in range(leng)]"
   ]
  },
  {
   "cell_type": "code",
   "execution_count": 56,
   "metadata": {},
   "outputs": [],
   "source": [
    "code = [random.randint(1000000,2000000) for i in range(leng)]"
   ]
  },
  {
   "cell_type": "code",
   "execution_count": 57,
   "metadata": {},
   "outputs": [],
   "source": [
    "dataset = pd.DataFrame({'code':code,'name':name,'open':op,'high':hi,'low':lo,'close':cl})"
   ]
  },
  {
   "cell_type": "code",
   "execution_count": 58,
   "metadata": {},
   "outputs": [
    {
     "data": {
      "text/html": [
       "<div>\n",
       "<style scoped>\n",
       "    .dataframe tbody tr th:only-of-type {\n",
       "        vertical-align: middle;\n",
       "    }\n",
       "\n",
       "    .dataframe tbody tr th {\n",
       "        vertical-align: top;\n",
       "    }\n",
       "\n",
       "    .dataframe thead th {\n",
       "        text-align: right;\n",
       "    }\n",
       "</style>\n",
       "<table border=\"1\" class=\"dataframe\">\n",
       "  <thead>\n",
       "    <tr style=\"text-align: right;\">\n",
       "      <th></th>\n",
       "      <th>code</th>\n",
       "      <th>name</th>\n",
       "      <th>open</th>\n",
       "      <th>high</th>\n",
       "      <th>low</th>\n",
       "      <th>close</th>\n",
       "    </tr>\n",
       "  </thead>\n",
       "  <tbody>\n",
       "    <tr>\n",
       "      <th>0</th>\n",
       "      <td>1689486</td>\n",
       "      <td>zdcvzrretw</td>\n",
       "      <td>1848</td>\n",
       "      <td>1173</td>\n",
       "      <td>1758</td>\n",
       "      <td>1320</td>\n",
       "    </tr>\n",
       "    <tr>\n",
       "      <th>1</th>\n",
       "      <td>1121348</td>\n",
       "      <td>xrdeicragj</td>\n",
       "      <td>1518</td>\n",
       "      <td>1059</td>\n",
       "      <td>1957</td>\n",
       "      <td>1582</td>\n",
       "    </tr>\n",
       "    <tr>\n",
       "      <th>2</th>\n",
       "      <td>1540229</td>\n",
       "      <td>vsxtnnmccs</td>\n",
       "      <td>1672</td>\n",
       "      <td>1994</td>\n",
       "      <td>1088</td>\n",
       "      <td>1115</td>\n",
       "    </tr>\n",
       "    <tr>\n",
       "      <th>3</th>\n",
       "      <td>1296105</td>\n",
       "      <td>dfzwymgodt</td>\n",
       "      <td>1138</td>\n",
       "      <td>1545</td>\n",
       "      <td>1207</td>\n",
       "      <td>1915</td>\n",
       "    </tr>\n",
       "    <tr>\n",
       "      <th>4</th>\n",
       "      <td>1005583</td>\n",
       "      <td>ricsomluli</td>\n",
       "      <td>1609</td>\n",
       "      <td>1874</td>\n",
       "      <td>1787</td>\n",
       "      <td>1332</td>\n",
       "    </tr>\n",
       "  </tbody>\n",
       "</table>\n",
       "</div>"
      ],
      "text/plain": [
       "      code        name  open  high   low  close\n",
       "0  1689486  zdcvzrretw  1848  1173  1758   1320\n",
       "1  1121348  xrdeicragj  1518  1059  1957   1582\n",
       "2  1540229  vsxtnnmccs  1672  1994  1088   1115\n",
       "3  1296105  dfzwymgodt  1138  1545  1207   1915\n",
       "4  1005583  ricsomluli  1609  1874  1787   1332"
      ]
     },
     "execution_count": 58,
     "metadata": {},
     "output_type": "execute_result"
    }
   ],
   "source": [
    "dataset.head()"
   ]
  },
  {
   "cell_type": "code",
   "execution_count": 59,
   "metadata": {},
   "outputs": [],
   "source": [
    "import json\n",
    "d = dataset.to_dict(orient='records')\n",
    "j = json.dumps(d)"
   ]
  },
  {
   "cell_type": "code",
   "execution_count": 60,
   "metadata": {},
   "outputs": [
    {
     "data": {
      "text/plain": [
       "str"
      ]
     },
     "execution_count": 60,
     "metadata": {},
     "output_type": "execute_result"
    }
   ],
   "source": [
    "type(j)"
   ]
  },
  {
   "cell_type": "code",
   "execution_count": 61,
   "metadata": {},
   "outputs": [
    {
     "data": {
      "text/plain": [
       "'[{\"code\": 1689486, \"name\": \"zdcvzrretw\", \"open\": 1848, \"high\": 1173, \"low\": 1758, \"close\": 1320}, {\"code\": 1121348, \"name\": \"xrdeicragj\", \"open\": 1518, \"high\": 1059, \"low\": 1957, \"close\": 1582}, {\"code\": 1540229, \"name\": \"vsxtnnmccs\", \"open\": 1672, \"high\": 1994, \"low\": 1088, \"close\": 1115}, {\"code\": 1296105, \"name\": \"dfzwymgodt\", \"open\": 1138, \"high\": 1545, \"low\": 1207, \"close\": 1915}, {\"code\": 1005583, \"name\": \"ricsomluli\", \"open\": 1609, \"high\": 1874, \"low\": 1787, \"close\": 1332}, {\"code\": 1537976, \"name\": \"xuvgmkqalu\", \"open\": 1001, \"high\": 1288, \"low\": 1896, \"close\": 1531}, {\"code\": 1588605, \"name\": \"kxgvjiasxv\", \"open\": 1712, \"high\": 1613, \"low\": 1049, \"close\": 1810}, {\"code\": 1097495, \"name\": \"ogvyxyvhnx\", \"open\": 1610, \"high\": 1755, \"low\": 1190, \"close\": 1281}, {\"code\": 1216148, \"name\": \"utapsfjjto\", \"open\": 1892, \"high\": 1416, \"low\": 1392, \"close\": 1508}, {\"code\": 1917835, \"name\": \"naxnxqesdy\", \"open\": 1961, \"high\": 1079, \"low\": 1389, \"close\": 1774}, {\"code\": 1082580, \"name\": \"tssfuqmsou\", \"open\": 1031, \"high\": 1063, \"low\": 1244, \"close\": 1774}, {\"code\": 1877137, \"name\": \"lvtejmxbma\", \"open\": 1633, \"high\": 1848, \"low\": 1999, \"close\": 1553}, {\"code\": 1698907, \"name\": \"sqqsvubljk\", \"open\": 1324, \"high\": 1224, \"low\": 1471, \"close\": 1779}, {\"code\": 1350046, \"name\": \"gcexzifvuz\", \"open\": 1057, \"high\": 1066, \"low\": 1516, \"close\": 1542}, {\"code\": 1130141, \"name\": \"crlvvbmoto\", \"open\": 1005, \"high\": 1211, \"low\": 1504, \"close\": 1071}, {\"code\": 1902609, \"name\": \"appukhlgmg\", \"open\": 1939, \"high\": 1399, \"low\": 1045, \"close\": 1566}, {\"code\": 1322998, \"name\": \"mxsamwfyds\", \"open\": 1435, \"high\": 1171, \"low\": 1076, \"close\": 1122}, {\"code\": 1796390, \"name\": \"hejlhfzjsj\", \"open\": 1703, \"high\": 1994, \"low\": 1772, \"close\": 1091}, {\"code\": 1774009, \"name\": \"fhaasmkgpy\", \"open\": 1237, \"high\": 1237, \"low\": 1822, \"close\": 1495}, {\"code\": 1662527, \"name\": \"ydlxvokwqq\", \"open\": 1483, \"high\": 1060, \"low\": 1227, \"close\": 1179}, {\"code\": 1198610, \"name\": \"ticvherayi\", \"open\": 1196, \"high\": 1234, \"low\": 1643, \"close\": 1545}, {\"code\": 1392706, \"name\": \"pkgxuctour\", \"open\": 1872, \"high\": 1944, \"low\": 1229, \"close\": 1088}, {\"code\": 1500184, \"name\": \"myyyisjyex\", \"open\": 1363, \"high\": 1410, \"low\": 1296, \"close\": 1989}, {\"code\": 1861385, \"name\": \"jwigbmhwmj\", \"open\": 1766, \"high\": 1548, \"low\": 1351, \"close\": 1213}, {\"code\": 1766215, \"name\": \"dscvuaifhk\", \"open\": 1166, \"high\": 1277, \"low\": 1967, \"close\": 1285}, {\"code\": 1843370, \"name\": \"wuoidtouuu\", \"open\": 1534, \"high\": 1475, \"low\": 1475, \"close\": 1721}, {\"code\": 1784286, \"name\": \"eptnijpixd\", \"open\": 1196, \"high\": 1425, \"low\": 1506, \"close\": 1718}, {\"code\": 1071982, \"name\": \"fshfvfjice\", \"open\": 1025, \"high\": 1263, \"low\": 1757, \"close\": 1864}, {\"code\": 1213863, \"name\": \"reigvedixd\", \"open\": 1419, \"high\": 1334, \"low\": 1514, \"close\": 1782}, {\"code\": 1900782, \"name\": \"gpzrlugrps\", \"open\": 1209, \"high\": 1499, \"low\": 1501, \"close\": 1967}, {\"code\": 1579086, \"name\": \"avnkvsguni\", \"open\": 1346, \"high\": 1166, \"low\": 1982, \"close\": 1660}, {\"code\": 1585629, \"name\": \"mtfcfyoyca\", \"open\": 1947, \"high\": 1146, \"low\": 1292, \"close\": 1861}, {\"code\": 1320641, \"name\": \"mrvzqazkth\", \"open\": 1525, \"high\": 1469, \"low\": 1108, \"close\": 1307}, {\"code\": 1733395, \"name\": \"wbokxtxbpz\", \"open\": 1148, \"high\": 1160, \"low\": 1286, \"close\": 1919}, {\"code\": 1121106, \"name\": \"xufwfwfthz\", \"open\": 1954, \"high\": 1684, \"low\": 1720, \"close\": 1732}, {\"code\": 1797466, \"name\": \"ffbgwtgzpc\", \"open\": 1385, \"high\": 1159, \"low\": 1829, \"close\": 1806}, {\"code\": 1718608, \"name\": \"cdasudssjr\", \"open\": 1980, \"high\": 1097, \"low\": 1386, \"close\": 1783}, {\"code\": 1660595, \"name\": \"plugjzmhgi\", \"open\": 1455, \"high\": 1541, \"low\": 1006, \"close\": 1227}, {\"code\": 1405569, \"name\": \"viphnhrbgh\", \"open\": 1516, \"high\": 1329, \"low\": 1065, \"close\": 1622}, {\"code\": 1771354, \"name\": \"coyvjgkyxz\", \"open\": 1477, \"high\": 1491, \"low\": 1536, \"close\": 1242}, {\"code\": 1535470, \"name\": \"dzjdzjpncc\", \"open\": 1781, \"high\": 1494, \"low\": 1308, \"close\": 1102}, {\"code\": 1634101, \"name\": \"ifhfmvrctc\", \"open\": 1118, \"high\": 2000, \"low\": 1856, \"close\": 1908}, {\"code\": 1147908, \"name\": \"bpkrtokjac\", \"open\": 1464, \"high\": 1333, \"low\": 1266, \"close\": 1656}, {\"code\": 1104409, \"name\": \"yfucuqpsfi\", \"open\": 1366, \"high\": 1273, \"low\": 1518, \"close\": 1132}, {\"code\": 1386646, \"name\": \"jmdiiwroxf\", \"open\": 1239, \"high\": 1326, \"low\": 1949, \"close\": 1182}, {\"code\": 1369065, \"name\": \"hprnlgbhsh\", \"open\": 1308, \"high\": 1640, \"low\": 1756, \"close\": 1957}, {\"code\": 1268046, \"name\": \"gfgcyduned\", \"open\": 1120, \"high\": 1297, \"low\": 1614, \"close\": 1156}, {\"code\": 1114921, \"name\": \"xbcwkpvcbq\", \"open\": 1836, \"high\": 1129, \"low\": 1152, \"close\": 1278}, {\"code\": 1579038, \"name\": \"jwhhthrmnl\", \"open\": 1908, \"high\": 1974, \"low\": 1367, \"close\": 1767}, {\"code\": 1727452, \"name\": \"kuvwsrrryi\", \"open\": 1124, \"high\": 1010, \"low\": 1734, \"close\": 1113}]'"
      ]
     },
     "execution_count": 61,
     "metadata": {},
     "output_type": "execute_result"
    }
   ],
   "source": [
    "j"
   ]
  },
  {
   "cell_type": "code",
   "execution_count": 41,
   "metadata": {},
   "outputs": [],
   "source": [
    "jsondict = [{\"code\": 1546853, \"name\": \"vkkqpikdrf\", \"open\": 1379, \"high\": 1329, \"low\": 1358, \"close\": 1332}, {\"code\": 1868581, \"name\": \"rekgsxcxtr\", \"open\": 1820, \"high\": 1376, \"low\": 1149, \"close\": 1839}, {\"code\": 1810408, \"name\": \"rorrovgqap\", \"open\": 1883, \"high\": 1155, \"low\": 1677, \"close\": 1892}, {\"code\": 1584536, \"name\": \"eyybsqcook\", \"open\": 1978, \"high\": 1222, \"low\": 1144, \"close\": 1987}, {\"code\": 1992671, \"name\": \"kkiopqtdsv\", \"open\": 1684, \"high\": 1073, \"low\": 1837, \"close\": 1661}, {\"code\": 1946749, \"name\": \"vzmltjmchm\", \"open\": 1290, \"high\": 1023, \"low\": 1534, \"close\": 1521}, {\"code\": 1757021, \"name\": \"gwyhslglhc\", \"open\": 1813, \"high\": 1742, \"low\": 1078, \"close\": 1839}, {\"code\": 1787923, \"name\": \"kehrawcgzf\", \"open\": 1272, \"high\": 1133, \"low\": 1552, \"close\": 1707}, {\"code\": 1772702, \"name\": \"gxipqbarji\", \"open\": 1309, \"high\": 1880, \"low\": 1070, \"close\": 1175}, {\"code\": 1686858, \"name\": \"spozmmntjq\", \"open\": 1597, \"high\": 1344, \"low\": 1317, \"close\": 1156}, {\"code\": 1042070, \"name\": \"pafvzrklct\", \"open\": 1327, \"high\": 1097, \"low\": 1366, \"close\": 1355}, {\"code\": 1538219, \"name\": \"mwubevwaef\", \"open\": 1181, \"high\": 1927, \"low\": 1239, \"close\": 1703}, {\"code\": 1510581, \"name\": \"nxtrjlbpak\", \"open\": 1475, \"high\": 1309, \"low\": 1128, \"close\": 1597}, {\"code\": 1971060, \"name\": \"mysxzupmhp\", \"open\": 1296, \"high\": 1580, \"low\": 1335, \"close\": 1807}, {\"code\": 1520201, \"name\": \"ozffwfzpnm\", \"open\": 1367, \"high\": 1962, \"low\": 1294, \"close\": 1447}, {\"code\": 1271634, \"name\": \"dwpfkcwdhl\", \"open\": 1451, \"high\": 1737, \"low\": 1594, \"close\": 1584}, {\"code\": 1314664, \"name\": \"gyxlsaxieq\", \"open\": 1561, \"high\": 1395, \"low\": 1250, \"close\": 1949}, {\"code\": 1889294, \"name\": \"wqqohfvkui\", \"open\": 1018, \"high\": 1599, \"low\": 1559, \"close\": 1248}, {\"code\": 1859360, \"name\": \"lwhrmkpsfl\", \"open\": 1857, \"high\": 1068, \"low\": 1271, \"close\": 1088}, {\"code\": 1725679, \"name\": \"xsrbxwwklp\", \"open\": 1645, \"high\": 1144, \"low\": 1119, \"close\": 1661}]"
   ]
  },
  {
   "cell_type": "code",
   "execution_count": 65,
   "metadata": {},
   "outputs": [
    {
     "data": {
      "text/plain": [
       "[{'code': 1546853,\n",
       "  'name': 'vkkqpikdrf',\n",
       "  'open': 1379,\n",
       "  'high': 1329,\n",
       "  'low': 1358,\n",
       "  'close': 1332},\n",
       " {'code': 1868581,\n",
       "  'name': 'rekgsxcxtr',\n",
       "  'open': 1820,\n",
       "  'high': 1376,\n",
       "  'low': 1149,\n",
       "  'close': 1839},\n",
       " {'code': 1810408,\n",
       "  'name': 'rorrovgqap',\n",
       "  'open': 1883,\n",
       "  'high': 1155,\n",
       "  'low': 1677,\n",
       "  'close': 1892},\n",
       " {'code': 1584536,\n",
       "  'name': 'eyybsqcook',\n",
       "  'open': 1978,\n",
       "  'high': 1222,\n",
       "  'low': 1144,\n",
       "  'close': 1987},\n",
       " {'code': 1992671,\n",
       "  'name': 'kkiopqtdsv',\n",
       "  'open': 1684,\n",
       "  'high': 1073,\n",
       "  'low': 1837,\n",
       "  'close': 1661},\n",
       " {'code': 1946749,\n",
       "  'name': 'vzmltjmchm',\n",
       "  'open': 1290,\n",
       "  'high': 1023,\n",
       "  'low': 1534,\n",
       "  'close': 1521},\n",
       " {'code': 1757021,\n",
       "  'name': 'gwyhslglhc',\n",
       "  'open': 1813,\n",
       "  'high': 1742,\n",
       "  'low': 1078,\n",
       "  'close': 1839},\n",
       " {'code': 1787923,\n",
       "  'name': 'kehrawcgzf',\n",
       "  'open': 1272,\n",
       "  'high': 1133,\n",
       "  'low': 1552,\n",
       "  'close': 1707}]"
      ]
     },
     "execution_count": 65,
     "metadata": {},
     "output_type": "execute_result"
    }
   ],
   "source": [
    "jsondict[:8]"
   ]
  },
  {
   "cell_type": "code",
   "execution_count": null,
   "metadata": {},
   "outputs": [],
   "source": []
  },
  {
   "cell_type": "code",
   "execution_count": null,
   "metadata": {},
   "outputs": [],
   "source": []
  },
  {
   "cell_type": "code",
   "execution_count": null,
   "metadata": {},
   "outputs": [],
   "source": []
  },
  {
   "cell_type": "code",
   "execution_count": null,
   "metadata": {},
   "outputs": [],
   "source": []
  },
  {
   "cell_type": "code",
   "execution_count": null,
   "metadata": {},
   "outputs": [],
   "source": []
  },
  {
   "cell_type": "code",
   "execution_count": null,
   "metadata": {},
   "outputs": [],
   "source": []
  },
  {
   "cell_type": "code",
   "execution_count": null,
   "metadata": {},
   "outputs": [],
   "source": []
  },
  {
   "cell_type": "code",
   "execution_count": null,
   "metadata": {},
   "outputs": [],
   "source": []
  },
  {
   "cell_type": "code",
   "execution_count": null,
   "metadata": {},
   "outputs": [],
   "source": []
  }
 ],
 "metadata": {
  "kernelspec": {
   "display_name": "Python 3",
   "language": "python",
   "name": "python3"
  },
  "language_info": {
   "codemirror_mode": {
    "name": "ipython",
    "version": 3
   },
   "file_extension": ".py",
   "mimetype": "text/x-python",
   "name": "python",
   "nbconvert_exporter": "python",
   "pygments_lexer": "ipython3",
   "version": "3.6.8"
  }
 },
 "nbformat": 4,
 "nbformat_minor": 2
}
